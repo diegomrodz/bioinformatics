{
 "cells": [
  {
   "cell_type": "markdown",
   "metadata": {},
   "source": [
    "# Coursera - Finding Hidden Messages on DNA"
   ]
  },
  {
   "cell_type": "code",
   "execution_count": 1,
   "metadata": {
    "collapsed": true
   },
   "outputs": [],
   "source": [
    "def Solve(Answer):\n",
    "    return \" \".join(list(map(str, Answer)))"
   ]
  },
  {
   "cell_type": "markdown",
   "metadata": {},
   "source": [
    "To compute Count(Text, Pattern), our plan is to “slide a window” down Text, checking whether each k-mer substring of Text matches Pattern. We will therefore refer to the k-mer starting at position i of Text as Text(i, k). Throughout this book, we will often use 0-based indexing, meaning that we count starting at 0 instead of 1. In this case, Text begins at position 0 and ends at position |Text| − 1 (|Text| denotes the number of symbols in Text). For example, if Text = GACCATACTG, then Text(4, 3) = ATA. Note that the last k-mer of Text begins at position |Text| − k, e.g., the last 3-mer of GACCATACTG starts at position 10 − 3 = 7. This discussion results in the following pseudocode for computing Count(Text, Pattern).\n",
    "\n",
    "```\n",
    "PatternCount(Text, Pattern)\n",
    "    count ← 0\n",
    "    for i ← 0 to |Text| − |Pattern|\n",
    "        if Text(i, |Pattern|) = Pattern\n",
    "            count ← count + 1\n",
    "    return count\n",
    "```"
   ]
  },
  {
   "cell_type": "code",
   "execution_count": 2,
   "metadata": {
    "collapsed": true
   },
   "outputs": [],
   "source": [
    "def PatternCount(Text, Pattern):\n",
    "    count = 0\n",
    "    l = len(Pattern)\n",
    "    for i in range((len(Text) + 1) - l):\n",
    "        if Text[i:i+l] == Pattern:\n",
    "            count += 1\n",
    "    return count"
   ]
  },
  {
   "cell_type": "code",
   "execution_count": 3,
   "metadata": {
    "collapsed": false
   },
   "outputs": [
    {
     "data": {
      "text/plain": [
       "2"
      ]
     },
     "execution_count": 3,
     "metadata": {},
     "output_type": "execute_result"
    }
   ],
   "source": [
    "genome, pattern = 'GCGCG', 'GCG'\n",
    "\n",
    "PatternCount(genome, pattern)"
   ]
  },
  {
   "cell_type": "markdown",
   "metadata": {},
   "source": [
    "A straightforward algorithm for finding the most frequent k-mers in a string Text checks all k-mers appearing in this string (there are |Text| − k + 1 such k-mers) and then computes how many times each k-mer appears in Text. To implement this algorithm, called FrequentWords, we will need to generate an array Count, where Count(i) stores Count(Text, Pattern) for Pattern = Text(i, k) (see figure below).\n",
    "\n",
    "<img src=\"https://ucarecdn.com/8367f24c-c989-4ad1-b5a4-9ab2dafa3a10/\">\n",
    "\n",
    "Figure: The array Count for Text = ACTGACTCCCACCCC and k = 3. For example, Count(0) = Count(4) = 2 because ACT (shown in boldface) appears twice in Text.\n",
    "\n",
    "The pseudocode for FrequentWords is shown below.\n",
    "\n",
    "```\n",
    "FrequentWords(Text, k)\n",
    "    FrequentPatterns ← an empty set\n",
    "    for i ← 0 to |Text| − k\n",
    "        Pattern ← the k-mer Text(i, k)\n",
    "        Count(i) ← PatternCount(Text, Pattern)\n",
    "    maxCount ← maximum value in array Count\n",
    "    for i ← 0 to |Text| − k\n",
    "        if Count(i) = maxCount\n",
    "            add Text(i, k) to FrequentPatterns\n",
    "    remove duplicates from FrequentPatterns\n",
    "    return FrequentPatterns\n",
    "```"
   ]
  },
  {
   "cell_type": "code",
   "execution_count": 4,
   "metadata": {
    "collapsed": true
   },
   "outputs": [],
   "source": [
    "def FrequentWords(Text, k):\n",
    "    FrequentPatterns = []\n",
    "    l = len(Text)\n",
    "    Count = {}\n",
    "    for i in range((l + 1) - k):\n",
    "        Pattern = Text[i:i+k]\n",
    "        Count[Pattern] = PatternCount(Text, Pattern)\n",
    "    maxCount = max(Count.values())\n",
    "    for pattern, count in Count.items():\n",
    "        if count == maxCount:\n",
    "            FrequentPatterns.append(pattern)\n",
    "    return set(FrequentPatterns)"
   ]
  },
  {
   "cell_type": "code",
   "execution_count": 5,
   "metadata": {
    "collapsed": false
   },
   "outputs": [
    {
     "data": {
      "text/plain": [
       "{'CATG', 'GCAT'}"
      ]
     },
     "execution_count": 5,
     "metadata": {},
     "output_type": "execute_result"
    }
   ],
   "source": [
    "genome, k = 'ACGTTGCATGTCGCATGATGCATGAGAGCT', 4\n",
    "\n",
    "FrequentWords(genome, k)"
   ]
  },
  {
   "cell_type": "markdown",
   "metadata": {},
   "source": [
    "Recall that nucleotides A and T are complements of each other, as are G and C. Having one strand and a supply of “free floating” nucleotides, one can imagine the synthesis of a complementary strand on a template strand. This model of replication was confirmed rigorously by Meselson and Stahl in 1958. The beginning and end of a DNA strand are denoted 5’ (pronounced “five prime”) and 3’ (pronounced “three prime”), respectively. For more details, see \"DETOUR: The Most Beautiful Experiment in Biology\" in the print companion.\n",
    "\n",
    "The figure below shows a template strand AGTCGCATAGT and its complementary strand ACTATGCGACT.\n",
    "\n",
    "<img src=\"http://bioinformaticsalgorithms.com/images/Replication/reverse_complement.png\">\n",
    "\n",
    "At this point, you may think that we have made a mistake, since the complementary strand in this figure reads out TCAGCGTATCA from left to right rather than ACTATGCGACT. We have not: each DNA strand has a direction, and the complementary strand runs in the opposite direction to the template strand, as shown by the arrows in the figure.\n",
    "\n",
    "Given a nucleotide p, we denote its complementary nucleotide as p*. The reverse complement of a string Pattern = p1 … pn is the string Patternrc = pn* … p1* formed by taking the complement of each nucleotide in Pattern, then reversing the resulting string. We will need the solution to the following problem throughout this chapter:\n",
    "\n",
    "```\n",
    "Reverse Complement Problem: Find the reverse complement of a DNA string.\n",
    "     Input: A DNA string Pattern.\n",
    "     Output: Patternrc , the reverse complement of Pattern.\n",
    "```"
   ]
  },
  {
   "cell_type": "code",
   "execution_count": 6,
   "metadata": {
    "collapsed": true
   },
   "outputs": [],
   "source": [
    "def ReverseComplement(Pattern):\n",
    "    Pattern_rc = []\n",
    "    for nucleotide in Pattern:\n",
    "        if nucleotide == 'G':\n",
    "            Pattern_rc.append(\"C\")\n",
    "        elif nucleotide == 'C':\n",
    "            Pattern_rc.append(\"G\")\n",
    "        elif nucleotide == 'A':\n",
    "            Pattern_rc.append(\"T\")\n",
    "        else:\n",
    "            Pattern_rc.append(\"A\")\n",
    "    Pattern_rc.reverse()\n",
    "    return \"\".join(Pattern_rc)"
   ]
  },
  {
   "cell_type": "code",
   "execution_count": 7,
   "metadata": {
    "collapsed": false
   },
   "outputs": [
    {
     "data": {
      "text/plain": [
       "'ACCGGGTTTT'"
      ]
     },
     "execution_count": 7,
     "metadata": {},
     "output_type": "execute_result"
    }
   ],
   "source": [
    "genome = 'AAAACCCGGT'\n",
    "\n",
    "ReverseComplement(genome)"
   ]
  },
  {
   "cell_type": "markdown",
   "metadata": {},
   "source": [
    "Interestingly, among the four most frequent 9-mers in ori of Vibrio cholerae, ATGATCAAG and CTTGATCAT are reverse complements of each other, resulting in the six total occurrences of these strings shown below.\n",
    "\n",
    "\n",
    "`atcaatgatcaacgtaagcttctaagcATGATCAAGgtgctcacacagtttatccacaac ctgagtggatgacatcaagataggtcgttgtatctccttcctctcgtactctcatgacca cggaaagATGATCAAGagaggatgatttcttggccatatcgcaatgaatacttgtgactt gtgcttccaattgacatcttcagcgccatattgcgctggccaaggtgacggagcgggatt acgaaagcatgatcatggctgttgttctgtttatcttgttttgactgagacttgttagga tagacggtttttcatcactgactagccaaagccttactctgcctgacatcgaccgtaaat tgataatgaatttacatgcttccgcgacgatttacctCTTGATCATcgatccgattgaag atcttcaattgttaattctcttgcctcgactcatagccatgatgagctCTTGATCATgtt tccttaaccctctattttttacggaagaATGATCAAGctgctgctCTTGATCATcgtttc`\n",
    "\n",
    "Finding a 9-mer that appears six times (either as itself or as its reverse complement) in a DNA string of length 500 is far more surprising than finding a 9-mer that appears three times (as itself). This observation leads us to the working hypothesis that ATGATCAAG and its reverse complement CTTGATCAT indeed represent DnaA boxes in Vibrio cholerae. This computational conclusion makes sense biologically because the DnaA protein that binds to DnaA boxes and initiates replication does not care which of the two strands it binds to. Thus, for our purposes, both ATGATCAAG and CTTGATCAT represent DnaA boxes.\n",
    "\n",
    "However, before concluding that we have found the DnaA box of Vibrio cholerae, the careful bioinformatician should check if there are other short regions in the Vibrio cholerae genome exhibiting multiple occurrences of ATGATCAAG (or CTTGATCAT). After all, maybe these strings occur as repeats throughout the entire Vibrio cholerae genome, rather than just in the ori region. To this end, we need to solve the following problem.\n",
    "\n",
    "```\n",
    "Pattern Matching Problem: Find all occurrences of a pattern in a string.\n",
    "     Input: Strings Pattern and Genome.\n",
    "     Output: All starting positions in Genome where Pattern appears as a substring.\n",
    "```"
   ]
  },
  {
   "cell_type": "code",
   "execution_count": 8,
   "metadata": {
    "collapsed": true
   },
   "outputs": [],
   "source": [
    "def PatternMatching(Text, Pattern):\n",
    "    Positions = []\n",
    "    l = len(Pattern)\n",
    "    for i in range((len(Text) + 1) - l):\n",
    "        if Text[i:i+l] == Pattern:\n",
    "            Positions.append(i)\n",
    "    return Positions"
   ]
  },
  {
   "cell_type": "code",
   "execution_count": 9,
   "metadata": {
    "collapsed": false
   },
   "outputs": [
    {
     "data": {
      "text/plain": [
       "[1, 3, 9]"
      ]
     },
     "execution_count": 9,
     "metadata": {},
     "output_type": "execute_result"
    }
   ],
   "source": [
    "genome, pattern = 'GATATATGCATATACTT', 'ATAT'\n",
    "\n",
    "PatternMatching(genome, pattern)"
   ]
  },
  {
   "cell_type": "markdown",
   "metadata": {},
   "source": [
    "If we remove the final symbol of Pattern, denoted LastSymbol(Pattern), then we will obtain a (k − 1)-mer that we denote as Prefix(Pattern). The observation from the previous step therefore generalizes to the following formula: \n",
    "\n",
    "PatternToNumber(Pattern) = 4 · PatternToNumber(Prefix(Pattern)) + SymbolToNumber(LastSymbol(Pattern))\n",
    "\n",
    "This equation leads to the following recursive algorithm, i.e., a program that calls itself. If you want to learn more about recursive algorithms, see \"DETOUR: The Towers of Hanoi\" in the print companion.\n",
    "\n",
    "```\n",
    "   PatternToNumber(Pattern)\n",
    "        if Pattern contains no symbols\n",
    "            return 0\n",
    "        symbol ← LastSymbol(Pattern)\n",
    "        Prefix ← Prefix(Pattern)\n",
    "        return 4 · PatternToNumber(Prefix) + SymbolToNumber(symbol)\n",
    "```"
   ]
  },
  {
   "cell_type": "code",
   "execution_count": 10,
   "metadata": {
    "collapsed": true
   },
   "outputs": [],
   "source": [
    "GENOME_LETTERS = ['A', 'C', 'G', 'T']\n",
    "\n",
    "def SymbolToNumber(Symbol):\n",
    "    return GENOME_LETTERS.index(Symbol)\n",
    "\n",
    "def NumberToSymbol(index):\n",
    "    return GENOME_LETTERS[index]"
   ]
  },
  {
   "cell_type": "code",
   "execution_count": 11,
   "metadata": {
    "collapsed": true
   },
   "outputs": [],
   "source": [
    "def PatternToNumber(Pattern):\n",
    "    if len(Pattern) == 0:\n",
    "        return 0\n",
    "    symbol = Pattern[-1]\n",
    "    Prefix = Pattern[:-1]\n",
    "    return 4 * PatternToNumber(Prefix) + SymbolToNumber(symbol)"
   ]
  },
  {
   "cell_type": "code",
   "execution_count": 12,
   "metadata": {
    "collapsed": false
   },
   "outputs": [
    {
     "data": {
      "text/plain": [
       "11"
      ]
     },
     "execution_count": 12,
     "metadata": {},
     "output_type": "execute_result"
    }
   ],
   "source": [
    "PatternToNumber('AGT')"
   ]
  },
  {
   "cell_type": "code",
   "execution_count": 13,
   "metadata": {
    "collapsed": false
   },
   "outputs": [
    {
     "data": {
      "text/plain": [
       "16997282291"
      ]
     },
     "execution_count": 13,
     "metadata": {},
     "output_type": "execute_result"
    }
   ],
   "source": [
    "PatternToNumber('TTTCCACTCTTACTTAT')"
   ]
  },
  {
   "cell_type": "markdown",
   "metadata": {},
   "source": [
    "In the pseudocode below, we denote the quotient and the remainder when dividing integer n by integer m as Quotient(n, m) and Remainder(n, m), respectively. For example, Quotient(11, 4) = 2 and Remainder(11, 4) = 3. This pseudocode uses the function NumberToSymbol(index), which is the inverse of SymbolToNumber and transforms the integers 0, 1, 2, and 3 into the respective symbols A, C, G, and T.\n",
    "\n",
    "```\n",
    "NumberToPattern(index, k)\n",
    "    if k = 1\n",
    "        return NumberToSymbol(index)\n",
    "    prefixIndex ← Quotient(index, 4)\n",
    "    r ← Remainder(index, 4)\n",
    "    symbol ← NumberToSymbol(r)\n",
    "    PrefixPattern ← NumberToPattern(prefixIndex, k − 1)\n",
    "    return concatenation of PrefixPattern with symbol\n",
    "```"
   ]
  },
  {
   "cell_type": "code",
   "execution_count": 14,
   "metadata": {
    "collapsed": true
   },
   "outputs": [],
   "source": [
    "from math import floor\n",
    "\n",
    "def NumberToPattern(index, k):\n",
    "    if k == 1:\n",
    "        return NumberToSymbol(index)\n",
    "    prefixIndex = floor(index / 4)\n",
    "    r = index % 4\n",
    "    symbol = NumberToSymbol(r)\n",
    "    PrefixPattern = NumberToPattern(prefixIndex, k - 1)\n",
    "    return PrefixPattern + symbol"
   ]
  },
  {
   "cell_type": "code",
   "execution_count": 15,
   "metadata": {
    "collapsed": false
   },
   "outputs": [
    {
     "data": {
      "text/plain": [
       "'AACCCTTTT'"
      ]
     },
     "execution_count": 15,
     "metadata": {},
     "output_type": "execute_result"
    }
   ],
   "source": [
    "NumberToPattern(5631, 9)"
   ]
  },
  {
   "cell_type": "markdown",
   "metadata": {},
   "source": [
    "The pseudocode below generates a frequency array by first initializing every element in the frequency array to zero (4k operations) and then making a single pass down Text (approximately |Text| · k operations). For each k-mer Pattern that we encounter, we add 1 to the value of the frequency array corresponding to Pattern. As before, we refer to the k-mer beginning at position i of Text as Text(i, k).\n",
    "\n",
    "```\n",
    "ComputingFrequencies(Text, k)\n",
    "    for i ← 0 to 4k − 1\n",
    "        FrequencyArray(i) ← 0\n",
    "    for i ← 0 to |Text| − k\n",
    "        Pattern ← Text(i, k)\n",
    "        j ← PatternToNumber(Pattern)\n",
    "        FrequencyArray(j) ← FrequencyArray(j) + 1\n",
    "    return FrequencyArray\n",
    "```"
   ]
  },
  {
   "cell_type": "code",
   "execution_count": 16,
   "metadata": {
    "collapsed": true
   },
   "outputs": [],
   "source": [
    "def ComputingFrequency(Text, k):\n",
    "    FrequencyArray = [0] * 4**k\n",
    "    for i in range((len(Text) + 1) - k):\n",
    "        Pattern = Text[i:i+k]\n",
    "        j = PatternToNumber(Pattern)\n",
    "        FrequencyArray[j] += 1\n",
    "    return FrequencyArray"
   ]
  },
  {
   "cell_type": "code",
   "execution_count": 17,
   "metadata": {
    "collapsed": false
   },
   "outputs": [
    {
     "data": {
      "text/plain": [
       "[2, 1, 0, 0, 0, 0, 2, 2, 1, 2, 1, 0, 0, 1, 1, 0]"
      ]
     },
     "execution_count": 17,
     "metadata": {},
     "output_type": "execute_result"
    }
   ],
   "source": [
    "genome, k = 'ACGCGGCTCTGAAA', 2\n",
    "\n",
    "ComputingFrequency(genome, k)"
   ]
  },
  {
   "cell_type": "markdown",
   "metadata": {},
   "source": [
    "We now have a faster algorithm for the Frequent Words Problem. After generating the frequency array, we can find all most frequent k-mers by simply finding all k-mers corresponding to the maximum element(s) in the frequency array.\n",
    "\n",
    "\n",
    "```\n",
    "FasterFrequentWords(Text, k)\n",
    "    FrequentPatterns ← an empty set\n",
    "    FrequencyArray ← ComputingFrequencies(Text, k)\n",
    "    maxCount ← maximal value in FrequencyArray\n",
    "    for i ← 0 to 4k − 1\n",
    "        if FrequencyArray(i) = maxCount\n",
    "            Pattern ← NumberToPattern(i, k)\n",
    "            add Pattern to the set FrequentPatterns\n",
    "    return FrequentPatterns\n",
    "```"
   ]
  },
  {
   "cell_type": "code",
   "execution_count": 18,
   "metadata": {
    "collapsed": true
   },
   "outputs": [],
   "source": [
    "def FasterFrequentWords(Text, k):\n",
    "    FrequentPatterns = []\n",
    "    FrequencyArray = ComputingFrequency(Text, k)\n",
    "    maxCount = max(FrequencyArray)\n",
    "    for i in range(0, 4**k):\n",
    "        if FrequencyArray[i] == maxCount:\n",
    "            Pattern = NumberToPattern(i, k)\n",
    "            FrequentPatterns.append(Pattern)\n",
    "    return set(FrequentPatterns)"
   ]
  },
  {
   "cell_type": "code",
   "execution_count": 19,
   "metadata": {
    "collapsed": false
   },
   "outputs": [
    {
     "data": {
      "text/plain": [
       "{'CATG', 'GCAT'}"
      ]
     },
     "execution_count": 19,
     "metadata": {},
     "output_type": "execute_result"
    }
   ],
   "source": [
    "genome, k = 'ACGTTGCATGTCGCATGATGCATGAGAGCT', 4\n",
    "\n",
    "FasterFrequentWords(genome, k)"
   ]
  },
  {
   "cell_type": "markdown",
   "metadata": {},
   "source": [
    "The pseudocode below slides a window of length L down Genome. After computing the frequency array for the current window, it identifies (L, t)-clumps simply by finding which k-mers occur at least t times within the window. To keep track of these clumps, our algorithm uses an array Clump of length 4k whose values are all initialized to zero. For each value of i between 0 and 4k − 1, we will set Clump(i) equal to 1 if NumberToPattern(i, k) forms an (L, t)-clump in Genome.\n",
    "\n",
    "```\n",
    "ClumpFinding(Genome, k, t, L)\n",
    "    FrequentPatterns ← an empty set\n",
    "    for i ← 0 to 4k − 1\n",
    "        Clump(i) ← 0\n",
    "    for i ← 0 to |Genome| − L\n",
    "        Text ← the string of length L starting at position i in Genome \n",
    "        FrequencyArray ← ComputingFrequencies(Text, k)\n",
    "        for index ← 0 to 4k − 1\n",
    "            if FrequencyArray(index) ≥ t\n",
    "                Clump(index) ← 1\n",
    "    for i ← 0 to 4k − 1\n",
    "        if Clump(i) = 1\n",
    "            Pattern ← NumberToPattern(i, k)\n",
    "            add Pattern to the set FrequentPatterns\n",
    "    return FrequentPatterns\n",
    "```"
   ]
  },
  {
   "cell_type": "code",
   "execution_count": 20,
   "metadata": {
    "collapsed": true
   },
   "outputs": [],
   "source": [
    "def ClumpFinding(Genome, k, t, L):\n",
    "    FrequentPatterns = []\n",
    "    Clump = [0] * 4**k\n",
    "    for i in range(len(Genome) - L):\n",
    "        Text = Genome[i:i+L]\n",
    "        FrequencyArray = ComputingFrequency(Text, k)\n",
    "        for ii in range(0, 4**k):\n",
    "            if FrequencyArray[ii] >= t:\n",
    "                Clump[ii] = 1\n",
    "    for key, val in enumerate(Clump):\n",
    "        if val == 1:\n",
    "            Pattern = NumberToPattern(key, k)\n",
    "            FrequentPatterns.append(Pattern)\n",
    "    return set(FrequentPatterns)"
   ]
  },
  {
   "cell_type": "code",
   "execution_count": 21,
   "metadata": {
    "collapsed": false
   },
   "outputs": [
    {
     "data": {
      "text/plain": [
       "{'CGACA', 'GAAGA'}"
      ]
     },
     "execution_count": 21,
     "metadata": {},
     "output_type": "execute_result"
    }
   ],
   "source": [
    "genome = 'CGGACTCGACAGATGTGAAGAACGACAATGTGAAGACTCGACACGACAGAGTGAAGAGAAGAGGAAACATTGTAA'\n",
    "\n",
    "ClumpFinding(genome, 5, 4, 50)"
   ]
  },
  {
   "cell_type": "markdown",
   "metadata": {},
   "source": [
    "To improve ClumpFinding, we observe that when we slide our window of length L one symbol to the right, the frequency array does not change much, and so regenerating the frequency array from scratch is inefficient. For example, the figure below shows the frequency arrays (k = 2) for the 13-mers Text = AAGCAAAGGTGGG and Text′ = AGCAAAGGTGGGC starting at positions 0 and 1 of the 14-mer AAGCAAAGGTGGGC. These two frequency arrays differ in only two elements corresponding to the first k-mer in Text (AA) and the last k-mer in Text’ (GC). Specifically, the frequency array value corresponding to the first k-mer of Text is reduced by 1 in the frequency array of Text’, and the frequency array value corresponding to the last k-mer of Text is increased by 1 in the frequency array of Text’.\n",
    "\n",
    "<img src=\"http://bioinformaticsalgorithms.com/images/Replication/frequency_array_consecutive_strings.png\">\n",
    "\n",
    "The observation on the previous step helps us modify ClumpFinding as shown below. Note that we now only call ComputingFrequencies once, updating the frequency array as we go along.\n",
    "\n",
    "```\n",
    "BetterClumpFinding(Genome, k, t, L)\n",
    "    FrequentPatterns ← an empty set\n",
    "    for i ← 0 to 4k − 1\n",
    "        Clump(i) ← 0\n",
    "    Text ← Genome(0, L)\n",
    "    FrequencyArray ← ComputingFrequencies(Text, k)\n",
    "    for i ← 0 to 4k − 1\n",
    "        if FrequencyArray(i) ≥ t\n",
    "            Clump(i) ← 1\n",
    "    for i ← 1 to |Genome| − L\n",
    "        FirstPattern ← Genome(i − 1, k)\n",
    "        index ← PatternToNumber(FirstPattern)\n",
    "        FrequencyArray(index) ← FrequencyArray(index) − 1\n",
    "        LastPattern ← Genome(i + L − k, k)\n",
    "        index ← PatternToNumber(LastPattern)\n",
    "        FrequencyArray(index) ← FrequencyArray(index) + 1\n",
    "        if FrequencyArray(index) ≥ t\n",
    "            Clump(index) ← 1\n",
    "    for i ← 0 to 4k − 1\n",
    "        if Clump(i) = 1\n",
    "            Pattern ← NumberToPattern(i, k)\n",
    "            add Pattern to the set FrequentPatterns\n",
    "    return FrequentPatterns\n",
    "```"
   ]
  },
  {
   "cell_type": "code",
   "execution_count": 22,
   "metadata": {
    "collapsed": true
   },
   "outputs": [],
   "source": [
    "def BetterClumpFinding(Genome, k, t, L):\n",
    "    FrequentPatterns = []\n",
    "    Clump = [0] * 4**k\n",
    "    Text = Genome[:L]\n",
    "    FrequencyArray = ComputingFrequency(Text, k)\n",
    "    for key, _ in enumerate(Clump):\n",
    "        if FrequencyArray[key] >= t:\n",
    "            Clump[key] = 1\n",
    "    for i in range(1, len(Genome) - L):\n",
    "        d = i - 1\n",
    "        FirstPattern = Genome[d:d+k]\n",
    "        index = PatternToNumber(FirstPattern)\n",
    "        FrequencyArray[index] -= 1\n",
    "        \n",
    "        d = i + L - k\n",
    "        LastPattern = Genome[d:d+k]\n",
    "        index = PatternToNumber(LastPattern)\n",
    "        FrequencyArray[index] += 1\n",
    "        \n",
    "        if FrequencyArray[index] >= t:\n",
    "            Clump[index] = 1\n",
    "    for key, val in enumerate(Clump):\n",
    "        if val == 1:\n",
    "            Pattern = NumberToPattern(key, k)\n",
    "            FrequentPatterns.append(Pattern)\n",
    "    return set(FrequentPatterns)        "
   ]
  },
  {
   "cell_type": "code",
   "execution_count": 23,
   "metadata": {
    "collapsed": false
   },
   "outputs": [
    {
     "data": {
      "text/plain": [
       "{'CGACA', 'GAAGA'}"
      ]
     },
     "execution_count": 23,
     "metadata": {},
     "output_type": "execute_result"
    }
   ],
   "source": [
    "genome = 'CGGACTCGACAGATGTGAAGAACGACAATGTGAAGACTCGACACGACAGAGTGAAGAGAAGAGGAAACATTGTAA'\n",
    "\n",
    "BetterClumpFinding(genome, 5, 4, 50)"
   ]
  },
  {
   "cell_type": "code",
   "execution_count": 24,
   "metadata": {
    "collapsed": false
   },
   "outputs": [
    {
     "name": "stdout",
     "output_type": "stream",
     "text": [
      "1904\n"
     ]
    }
   ],
   "source": [
    "#  How many different 9-mers form \n",
    "# (500,3)-clumps in the E. coli genome? \n",
    "# In other words, do not count a 9-mer more than once.\n",
    "with open('./E_coli.txt') as file:\n",
    "    genome = file.readline().strip()\n",
    "    res = BetterClumpFinding(genome, 9, 3, 500)\n",
    "    print(len(res))"
   ]
  },
  {
   "cell_type": "markdown",
   "metadata": {},
   "source": [
    "### Deamination"
   ]
  },
  {
   "cell_type": "markdown",
   "metadata": {},
   "source": [
    "In the last section, we saw that as the replication fork expands, DNA polymerase synthesizes DNA quickly on the reverse half-strand but suffers delays on the forward half-strand. We will explore the asymmetry of DNA replication to design a new algorithm for finding ori.\n",
    "\n",
    "How in the world can the asymmetry of replication possibly help us locate ori? Notice that since the replication of a reverse half-strand proceeds quickly, it lives double-stranded for most of its life. Conversely, a forward half-strand spends a much larger amount of its life single-stranded, waiting to be used as a template for replication. This discrepancy between the forward and reverse half-strands is important because single-stranded DNA has a much higher mutation rate than double-stranded DNA. In particular, if one of the four nucleotides in single-stranded DNA has a greater tendency than other nucleotides to mutate in single-stranded DNA, then we should observe a shortage of this nucleotide on the forward half-strand.\n",
    "\n",
    "Following up on this thought, let’s compare the nucleotide counts of the reverse and forward half-strands. If these counts differ substantially, then we will design an algorithm that attempts to track down these differences in genomes for which ori is unknown. The nucleotide counts for the forward and reverse half-strands of the Thermotoga petrophila genome are shown in the table below.\n",
    "\n",
    "<img src=\"http://bioinformaticsalgorithms.com/images/Replication/forward_reverse_nucleotide_counts.png\" width=\"50%\">\n",
    "\n",
    "Although the frequencies of A and T are practically identical on the two half-strands, C is more frequent on the reverse half-strand than on the forward half-strand, resulting in a difference of 219518 - 207901 = +11617. Its complementary nucleotide G is less frequent on the reverse half-strand than on the forward half-strand, resulting in a difference of 201634 - 211607 = -9973.\n",
    "\n",
    "It turns out that we observe these discrepancies because cytosine (C) has a tendency to mutate into thymine (T) through a process called deamination. Deamination rates rise 100-fold when DNA is single-stranded, which leads to a decrease in cytosine on the forward half-strand. Also, since C-G base pairs eventually change into T-A base pairs, deamination results in the observed decrease in guanine (G) on the reverse half-strand (recall that a forward parent half-strand synthesizes a reverse daughter half-strand, and vice-versa)."
   ]
  },
  {
   "cell_type": "markdown",
   "metadata": {},
   "source": [
    "### Skew Diagram"
   ]
  },
  {
   "cell_type": "markdown",
   "metadata": {},
   "source": [
    "Let's see if we can take advantage of these peculiar statistics caused by deamination to locate ori. As the table on the previous step illustrates, the difference between the total amount of guanine and the total amount of cytosine is negative on the reverse half-strand (201634 - 219518 = -17884) and positive on the forward half-strand (211607 - 207901 = 3706). Thus, our idea is to traverse the genome, keeping a running total of the difference between the counts of G and C. If this difference starts increasing, then we guess that we are on the forward half-strand; on the other hand, if this difference starts decreasing, then the we guess that we are on the reverse half-strand. See the figure below.\n",
    "\n",
    "<img src=\"http://bioinformaticsalgorithms.com/images/Replication/increasing_decreasing_skew.png\"  width=\"50%\">\n",
    "\n",
    "Since we don't know the location of ori in a circular genome, let's linearize it (i.e., select an arbitrary position and pretend that the genome begins here), resulting in a linear string Genome. We define Skewi(Genome) as the difference between the total number of occurrences of G and the total number of occurrences of C in the first i nucleotides of Genome. The skew diagram is defined by plotting Skewi (Genome) (as i ranges from 0 to |Genome|), where Skew0 (Genome) is set equal to zero. The figure below shows a skew diagram for the DNA string CATGGGCATCGGCCATACGCC.\n",
    "\n",
    "Note that we can compute Skewi+1(Genome) from Skewi(Genome) according to the nucleotide in position i of Genome. If this nucleotide is G, then Skewi+1(Genome) = Skewi(Genome) + 1; if this nucleotide is C, then Skewi+1(Genome)= Skewi(Genome) – 1; otherwise, Skewi+1(Genome) = Skewi(Genome).\n",
    "\n",
    "<img src=\"http://bioinformaticsalgorithms.com/images/Replication/skew_diagram_basic.png\" width=\"75%\">"
   ]
  },
  {
   "cell_type": "code",
   "execution_count": 25,
   "metadata": {
    "collapsed": true
   },
   "outputs": [],
   "source": [
    "def Skew(Genome):\n",
    "    return Genome.upper().count('G') - Genome.upper().count('C')\n",
    "\n",
    "def SkewSequence(Genome):\n",
    "    Positions = []\n",
    "    for i in range(len(Genome)):\n",
    "        Skew_i = Skew(Genome[:i])\n",
    "        Positions.append(Skew_i)\n",
    "    return Positions"
   ]
  },
  {
   "cell_type": "code",
   "execution_count": 26,
   "metadata": {
    "collapsed": false
   },
   "outputs": [
    {
     "data": {
      "text/plain": [
       "[0, -1, -1, -1, 0, 1, 2, 1, 1, 1, 0, 1, 2, 1, 0, 0, 0, 0, -1, 0, -1]"
      ]
     },
     "execution_count": 26,
     "metadata": {},
     "output_type": "execute_result"
    }
   ],
   "source": [
    "genome = 'CATGGGCATCGGCCATACGCC'\n",
    "\n",
    "SkewSequence(genome)"
   ]
  },
  {
   "cell_type": "markdown",
   "metadata": {},
   "source": [
    "Let's follow the 5' → 3' direction of DNA and walk along the chromosome from ter to ori (along a reverse half-strand), then continue on from ori to ter (along a forward half-strand). In our previous discussion, we saw that the skew is decreasing along the reverse half-strand and increasing along the forward half-strand. Thus, the skew should achieve a minimum at the position where the reverse half-strand ends and the forward half-strand begins, which is exactly the location of ori!\n",
    "\n",
    "We have just developed an insight for a new algorithm for locating ori: it should be found where the skew attains a minimum.\n",
    "\n",
    "```\n",
    "Minimum Skew Problem: Find a position in a genome where the skew diagram attains a minimum.\n",
    "     Input: A DNA string Genome.\n",
    "     Output: All integer(s) i minimizing Skewi (Genome) among all values of i (from 0 to |Genome|).\n",
    "```"
   ]
  },
  {
   "cell_type": "code",
   "execution_count": 27,
   "metadata": {
    "collapsed": true
   },
   "outputs": [],
   "source": [
    "def MinimumSkew(Genome):\n",
    "    Skews = SkewSequence(Genome)\n",
    "    Positions = []\n",
    "    Minimum = min(Skews)\n",
    "    for pos, val in enumerate(Skews):\n",
    "        if val == Minimum:\n",
    "            Positions.append(pos)\n",
    "    return Positions"
   ]
  },
  {
   "cell_type": "code",
   "execution_count": 28,
   "metadata": {
    "collapsed": false
   },
   "outputs": [
    {
     "data": {
      "text/plain": [
       "[11, 24]"
      ]
     },
     "execution_count": 28,
     "metadata": {},
     "output_type": "execute_result"
    }
   ],
   "source": [
    "genome = 'TAAAGACTGCCGAGAGGCCAACACGAGTGCTAGAACGAGGGGCGTAAACGCGGGTCCGAT'\n",
    "\n",
    "MinimumSkew(genome)"
   ]
  },
  {
   "cell_type": "markdown",
   "metadata": {},
   "source": [
    "We say that position i in k-mers p1 … pk and q1 … qk is a mismatch if pi ≠ qi. For example, CGAAT and CGGAC have two mismatches. The number of mismatches between strings p and q is called the Hamming distance between these strings and is denoted HammingDistance(p, q).\n",
    "\n",
    "```\n",
    "Hamming Distance Problem: Compute the Hamming distance between two strings.\n",
    "     Input: Two strings of equal length.\n",
    "     Output: The Hamming distance between these strings.\n",
    "```"
   ]
  },
  {
   "cell_type": "code",
   "execution_count": 29,
   "metadata": {
    "collapsed": true
   },
   "outputs": [],
   "source": [
    "def HammingDistance(Sequence, OtherSequence):\n",
    "    if not len(Sequence) == len(OtherSequence):\n",
    "        raise ArgumentError('Both sequences must have the same length.')\n",
    "    Distance = 0\n",
    "    for idx, gene in enumerate(Sequence):\n",
    "        if not gene == OtherSequence[idx]:\n",
    "            Distance += 1\n",
    "    return Distance"
   ]
  },
  {
   "cell_type": "code",
   "execution_count": 30,
   "metadata": {
    "collapsed": false
   },
   "outputs": [
    {
     "data": {
      "text/plain": [
       "3"
      ]
     },
     "execution_count": 30,
     "metadata": {},
     "output_type": "execute_result"
    }
   ],
   "source": [
    "a, b = 'GGGCCGTTGGT', 'GGACCGTTGAC'\n",
    "\n",
    "HammingDistance(a, b)"
   ]
  },
  {
   "cell_type": "markdown",
   "metadata": {},
   "source": [
    "Our goal is to generate the d-neighborhood Neighbors(Pattern, d), the set of all k-mers whose Hamming distance from Pattern does not exceed d. As a warm up, we will first generate the 1-neigborhood of Pattern using the following pseudocode.\n",
    "\n",
    "```\n",
    "ImmediateNeighbors(Pattern)\n",
    "    Neighborhood ← the set consisting of single string Pattern\n",
    "    for i = 1 to |Pattern|\n",
    "        symbol ← i-th nucleotide of Pattern\n",
    "        for each nucleotide x different from symbol\n",
    "            Neighbor ← Pattern with the i-th nucleotide substituted by x\n",
    "            add Neighbor to Neighborhood\n",
    "    return Neighborhood\n",
    "```"
   ]
  },
  {
   "cell_type": "code",
   "execution_count": 31,
   "metadata": {
    "collapsed": true
   },
   "outputs": [],
   "source": [
    "def ImmediateNeighbors(Pattern):\n",
    "    Neighborhood = [Pattern]\n",
    "    for idx, symbol in enumerate(Pattern):\n",
    "        Letters = GENOME_LETTERS.copy()\n",
    "        Letters.remove(symbol)\n",
    "        for nucleotide in Letters:\n",
    "            Neighbor = list(Pattern)\n",
    "            Neighbor[idx] = nucleotide\n",
    "            Neighborhood.append(\"\".join(Neighbor))\n",
    "    return set(Neighborhood)"
   ]
  },
  {
   "cell_type": "code",
   "execution_count": 32,
   "metadata": {
    "collapsed": false
   },
   "outputs": [
    {
     "data": {
      "text/plain": [
       "{'AAG', 'ACA', 'ACC', 'ACG', 'ACT', 'AGG', 'ATG', 'CCG', 'GCG', 'TCG'}"
      ]
     },
     "execution_count": 32,
     "metadata": {},
     "output_type": "execute_result"
    }
   ],
   "source": [
    "genome = 'ACG'\n",
    "\n",
    "ImmediateNeighbors(genome)"
   ]
  },
  {
   "cell_type": "markdown",
   "metadata": {},
   "source": [
    "Now, consider a (k − 1)-mer Pattern’ belonging to Neighbors(Suffix(Pattern), d). By the definition of the d-neighborhood Neighbors(Suffix(Pattern), d), we know that HammingDistance(Pattern′, Suffix(Pattern)) is either equal to d or less than d. In the first case, we can add FirstSymbol(Pattern) to the beginning of Pattern’ in order to obtain a k-mer belonging to Neighbors(Pattern, d). In the second case, we can add any symbol to the beginning of Pattern’ and obtain a k-mer belonging to Neighbors(Pattern, d).\n",
    "\n",
    "In the following pseudocode, we use the notation symbol • Text to denote the concatenation of a character symbol and a string Text, e.g., A•GCATG = AGCATG.\n",
    "\n",
    "```\n",
    "Neighbors(Pattern, d)\n",
    "    if d = 0\n",
    "        return {Pattern}\n",
    "    if |Pattern| = 1 \n",
    "        return {A, C, G, T}\n",
    "    Neighborhood ← an empty set\n",
    "    SuffixNeighbors ← Neighbors(Suffix(Pattern), d)\n",
    "    for each string Text from SuffixNeighbors\n",
    "        if HammingDistance(Suffix(Pattern), Text) < d\n",
    "            for each nucleotide x\n",
    "                add x • Text to Neighborhood\n",
    "        else\n",
    "            add FirstSymbol(Pattern) • Text to Neighborhood\n",
    "    return Neighborhood\n",
    "```"
   ]
  },
  {
   "cell_type": "code",
   "execution_count": 33,
   "metadata": {
    "collapsed": true
   },
   "outputs": [],
   "source": [
    "def Neighbors(Pattern, d):\n",
    "    if d == 0:\n",
    "        return [Pattern]\n",
    "    if len(Pattern) == 1:\n",
    "        return GENOME_LETTERS\n",
    "    Neighborhood = []\n",
    "    SuffixNeighbors = Neighbors(Pattern[1:], d)\n",
    "    for neighbor in SuffixNeighbors:\n",
    "        if HammingDistance(Pattern[1:], neighbor) < d:\n",
    "            for nucleotide in GENOME_LETTERS:\n",
    "                Neighborhood.append(nucleotide + neighbor)\n",
    "        else:\n",
    "            Neighborhood.append(Pattern[0] + neighbor)\n",
    "    return set(Neighborhood)"
   ]
  },
  {
   "cell_type": "code",
   "execution_count": 34,
   "metadata": {
    "collapsed": false
   },
   "outputs": [
    {
     "data": {
      "text/plain": [
       "1789"
      ]
     },
     "execution_count": 34,
     "metadata": {},
     "output_type": "execute_result"
    }
   ],
   "source": [
    "genome, d = 'AAAGACGC', 3\n",
    "\n",
    "neighbors = Neighbors(genome, 3)\n",
    "len(neighbors)"
   ]
  },
  {
   "cell_type": "markdown",
   "metadata": {},
   "source": [
    "Computing Countd(Text, Pattern) simply requires us to compute the Hamming distance between Pattern and every k-mer substring of Text, which is achieved by the following pseudocode.\n",
    "\n",
    "```\n",
    "ApproximatePatternCount(Text, Pattern, d)\n",
    "    count ← 0\n",
    "    for i ← 0 to |Text| − |Pattern|\n",
    "        Pattern′ ← Text(i , |Pattern|)\n",
    "        if HammingDistance(Pattern, Pattern′) ≤ d\n",
    "            count ← count + 1\n",
    "    return count\n",
    "```"
   ]
  },
  {
   "cell_type": "code",
   "execution_count": 35,
   "metadata": {
    "collapsed": true
   },
   "outputs": [],
   "source": [
    "def ApproximatePatternCount(Text, Pattern, d):\n",
    "    count = 0\n",
    "    l = len(Pattern)\n",
    "    for i in range((len(Text)+1) - l):\n",
    "        Segment = Text[i:i+l]\n",
    "        if HammingDistance(Pattern, Segment) <= d:\n",
    "            count += 1\n",
    "    return count"
   ]
  },
  {
   "cell_type": "code",
   "execution_count": 36,
   "metadata": {
    "collapsed": false
   },
   "outputs": [
    {
     "data": {
      "text/plain": [
       "4"
      ]
     },
     "execution_count": 36,
     "metadata": {},
     "output_type": "execute_result"
    }
   ],
   "source": [
    "genome, pattern, d = 'TTTAGAGCCTTCAGAGG', 'GAGG', 2\n",
    "\n",
    "ApproximatePatternCount(genome, pattern, d)"
   ]
  },
  {
   "cell_type": "markdown",
   "metadata": {},
   "source": [
    "A most frequent k-mer with up to d mismatches in Text is simply a string Pattern maximizing Countd(Text, Pattern) among all k-mers. Note that Pattern does not need to actually appear as a substring of Text; for example, as we already saw, AAAAA is the most frequent 5-mer with 1 mismatch in AACAAGCTGATAAACATTTAAAGAG, even though it does not appear exactly in this string. Keep this in mind while solving the following problem.\n",
    "\n",
    "```\n",
    "Frequent Words with Mismatches Problem: Find the most frequent k-mers with mismatches in a string.\n",
    "     Input: A string Text as well as integers k and d. (You may assume k ≤ 12 and d ≤ 3.)\n",
    "     Output: All most frequent k-mers with up to d mismatches in Text.\n",
    "```\n",
    "\n",
    "One way to solve the above problem is to generate all 4k k-mers Pattern, compute ApproximatePatternCount(Text, Pattern, d) for each k-mer Pattern, and then output k-mers with the maximum number of approximate occurrences. This is an inefficient approach in practice, since many of the 4k k-mers that this method analyzes should not be considered because neither they nor their mutated versions (with up to d mismatches) appear in Text.\n",
    "\n",
    "The following pseudocode reduces the Frequent Words with Mismatches Problem to sorting. The following pseudocode reduces the Frequent Words with Mismatches Problem to sorting. It first generates all neighbors (with up to d mismatches) for all k-mers in Text and combines them all into an array NeighborhoodArray. Note that a k-mer Pattern appears Countd(Text, Pattern) times in this array. The only thing left is to sort this array, count how many times each k-mer appears in the sorted array, and then return the k-mers that occur the maximum number of times.\n",
    "\n",
    "```\n",
    "FrequentWordsWithMismatches(Text, k, d)\n",
    "    FrequentPatterns ← an empty set\n",
    "    Neighborhoods ← an empty list\n",
    "    for i ← 0 to |Text| − k\n",
    "        add Neighbors(Text(i, k), d) to Neighborhoods\n",
    "    form an array NeighborhoodArray holding all strings in Neighborhoods\n",
    "    for i ← 0 to |Neighborhoods| − 1\n",
    "        Pattern ← NeighborhoodArray(i) \n",
    "        Index(i) ← PatternToNumber(Pattern)\n",
    "        Count(i) ← 1\n",
    "    SortedIndex ← Sort(Index)\n",
    "    for i ← 0 to |Neighborhoods| − 2 \n",
    "        if SortedIndex(i) = SortedIndex(i + 1)\n",
    "            Count(i + 1) ← Count(i) + 1\n",
    "   maxCount ← maximum value in array Count\n",
    "   for i ← 0 to |Neighborhoods| − 1\n",
    "       if Count(i) = maxCount\n",
    "           Pattern ← NumberToPattern(SortedIndex(i), k)\n",
    "           add Pattern to FrequentPatterns\n",
    "   return FrequentPatterns \n",
    "```"
   ]
  },
  {
   "cell_type": "code",
   "execution_count": 37,
   "metadata": {
    "collapsed": true
   },
   "outputs": [],
   "source": [
    "def FrequentWordsWithMistaches(Text, k, d):\n",
    "    FrequentPatterns = []\n",
    "    Neighborhoods = []\n",
    "    for i in range((len(Text)+1) - k):\n",
    "        Neighborhoods.append(Neighbors(Text[i:i+k], d))\n",
    "    NeighborhoodArray = []\n",
    "    for neighborhood in Neighborhoods:\n",
    "        NeighborhoodArray += neighborhood\n",
    "    Index, Count = [], []\n",
    "    for Pattern in NeighborhoodArray:\n",
    "        Index.append(PatternToNumber(Pattern))\n",
    "        Count.append(1)\n",
    "    Index.sort()\n",
    "    for i in range(len(NeighborhoodArray) - 2):\n",
    "        if Index[i] == Index[i + 1]:\n",
    "            Count[i + 1] = Count[i] + 1\n",
    "    maxCount = max(Count)\n",
    "    for i in range(len(NeighborhoodArray)):\n",
    "        if Count[i] == maxCount:\n",
    "            Pattern = NumberToPattern(Index[i], k)\n",
    "            FrequentPatterns.append(Pattern)\n",
    "    return set(FrequentPatterns)"
   ]
  },
  {
   "cell_type": "code",
   "execution_count": 38,
   "metadata": {
    "collapsed": false
   },
   "outputs": [
    {
     "data": {
      "text/plain": [
       "{'ATGC', 'ATGT', 'GATG'}"
      ]
     },
     "execution_count": 38,
     "metadata": {},
     "output_type": "execute_result"
    }
   ],
   "source": [
    "genome, k, d = 'ACGTTGCATGTCGCATGATGCATGAGAGCT', 4, 1\n",
    "\n",
    "FrequentWordsWithMistaches(genome, k, d)"
   ]
  },
  {
   "cell_type": "markdown",
   "metadata": {},
   "source": [
    "We now redefine the Frequent Words Problem to account for both mismatches and reverse complements. Recall that Patternrc refers to the reverse complement of Pattern.\n",
    "\n",
    "```\n",
    "Frequent Words with Mismatches and Reverse Complements Problem: Find the most frequent k-mers (with mismatches and reverse complements) in a string.\n",
    "      Input: A DNA string Text as well as integers k and d.\n",
    "      Output: All k-mers Pattern maximizing the sum Countd(Text, Pattern)+ Countd(Text, Patternrc) over all possible k-mers.\n",
    "```"
   ]
  },
  {
   "cell_type": "code",
   "execution_count": 39,
   "metadata": {
    "collapsed": true
   },
   "outputs": [],
   "source": [
    "# TODO"
   ]
  },
  {
   "cell_type": "markdown",
   "metadata": {},
   "source": [
    "### Motifs"
   ]
  },
  {
   "cell_type": "markdown",
   "metadata": {},
   "source": [
    "Given a collection of strings Dna and an integer d, a k-mer is a (k,d)-motif if it appears in every string from Dna with at most d mismatches. For example, the implanted 15-mer in the strings above represents a (15,4)-motif.\n",
    "\n",
    "```\n",
    "Implanted Motif Problem: Find all (k, d)-motifs in a collection of strings.\n",
    "     Input: A collection of strings Dna, and integers k and d.\n",
    "     Output: All (k, d)-motifs in Dna.\n",
    "```\n",
    "\n",
    "Brute force (also known as exhaustive search) is a general problem-solving technique that explores all possible solution candidates and checks whether each candidate solves the problem. Such algorithms require little effort to design and are guaranteed to produce a correct solution, but they may take an enormous amount of time, and the number of candidates may be too large to check.\n",
    "\n",
    "A brute force approach for solving the Implanted Motif Problem is based on the observation that any (k, d)-motif must be at most d mismatches apart from some k-mer appearing in the first string in Dna. Therefore, we can generate all such k-mers and then check which of them are (k, d)-motifs. If you have forgotten how to generate these k-mers.\n",
    "\n",
    "```\n",
    "MotifEnumeration(Dna, k, d)\n",
    "    Patterns ← an empty set\n",
    "    for each k-mer Pattern in Dna\n",
    "        for each k-mer Pattern’ differing from Pattern by at most d mismatches\n",
    "            if Pattern' appears in each string from Dna with at most d ﻿mismatches\n",
    "                add Pattern' to Patterns\n",
    "    remove duplicates from Patterns\n",
    "    return Patterns\n",
    "```"
   ]
  },
  {
   "cell_type": "code",
   "execution_count": 40,
   "metadata": {
    "collapsed": true
   },
   "outputs": [],
   "source": [
    "def MotifEnumeration(Dna, k, d):\n",
    "    Patterns = []\n",
    "    Kmers = []\n",
    "    l = len(Dna[0])\n",
    "    for dna in Dna:\n",
    "        for i in range(l - k):\n",
    "            Kmers.append(dna[i:i+k])\n",
    "    for kmer in set(Kmers):\n",
    "        for neighbor in Neighbors(kmer, d):\n",
    "            In = True\n",
    "            for dna in Dna:\n",
    "                if ApproximatePatternCount(dna, neighbor, d) == 0:\n",
    "                    In = False\n",
    "                    break\n",
    "            if In:\n",
    "                Patterns.append(neighbor)\n",
    "    return set(Patterns)"
   ]
  },
  {
   "cell_type": "code",
   "execution_count": 41,
   "metadata": {
    "collapsed": false
   },
   "outputs": [
    {
     "data": {
      "text/plain": [
       "{'ATA', 'ATT', 'GTT', 'TTT'}"
      ]
     },
     "execution_count": 41,
     "metadata": {},
     "output_type": "execute_result"
    }
   ],
   "source": [
    "dna = [\n",
    "    'ATTTGGC',\n",
    "    'TGCCTTA',\n",
    "    'CGGTATC',\n",
    "    'GAAAATT' ]\n",
    "\n",
    "MotifEnumeration(dna, 3, 1)"
   ]
  },
  {
   "cell_type": "markdown",
   "metadata": {},
   "source": [
    "By varying the choice of k-mers in each sequence, we can construct a large number of different motif matrices from a given sample of DNA sequences. Our goal is to select k-mers resulting in the most “conserved” motif matrix, meaning the matrix with the most upper case letters (and thus the fewest number of lower case letters). Leaving aside the question of how we select such k-mers, we will first focus on how to score the resulting motif matrices, defining Score(Motifs) as the number of unpopular (lower case) letters in the motif matrix Motifs. Our goal is to find a collection of k-mers that minimizes this score.\n",
    "\n",
    "<img src=\"http://bioinformaticsalgorithms.com/images/Motifs/motifs_score.png\" width=\"75%\">"
   ]
  },
  {
   "cell_type": "code",
   "execution_count": 42,
   "metadata": {
    "collapsed": true
   },
   "outputs": [],
   "source": [
    "def ScoreMotifs(Motifs):\n",
    "    Scores = []\n",
    "    Count = []\n",
    "    Length = len(Motifs)\n",
    "    for Col in range(len(Motifs[0])):\n",
    "        Count.append({'A':0,'C':0,'G':0,'T':0})\n",
    "        for Row in range(Length):\n",
    "            Count[Col][Motifs[Row][Col].upper()] += 1\n",
    "    for Score in Count:\n",
    "        PredominantLetter = max(Score, key=lambda i: Score[i])\n",
    "        Total = sum(Score.values())\n",
    "        Scores.append(Total - Score[PredominantLetter])\n",
    "    return Scores"
   ]
  },
  {
   "cell_type": "code",
   "execution_count": 43,
   "metadata": {
    "collapsed": false
   },
   "outputs": [
    {
     "name": "stdout",
     "output_type": "stream",
     "text": [
      "3 + 4 + 0 + 0 + 1 + 1 + 1 + 5 + 2 + 3 + 6 + 4 = 30\n"
     ]
    }
   ],
   "source": [
    "Motifs = [\n",
    "    \"TCGGGGGTTTTT\",\n",
    "    \"CCGGTGACTTAC\",\n",
    "    \"ACGGGGATTTTC\",\n",
    "    \"TTGGGGACTTTT\",\n",
    "    \"AAGGGGACTTCC\",\n",
    "    \"TTGGGGACTTCC\",\n",
    "    \"TCGGGGATTCAT\",\n",
    "    \"TCGGGGATTCCT\",\n",
    "    \"TAGGGGAACTAC\",\n",
    "    \"TCGGGTATAACC\"\n",
    "]\n",
    "\n",
    "scores = ScoreMotifs(Motifs)\n",
    "print(\" + \".join(map(str, scores)), \"=\", sum(scores))"
   ]
  },
  {
   "cell_type": "markdown",
   "metadata": {},
   "source": [
    "We can construct the 4 × k count matrix Count(Motifs) counting the number of occurrences of each nucleotide in each column of the motif matrix; the (i, j)-th element of Count(Motifs) stores the number of times that nucleotide i appears in column j of Motifs. We will further divide all of the elements in the count matrix by t, the number of rows in Motifs. This results in a profile matrix P = Profile(Motifs) for which Pi,j is the frequency of the i-th nucleotide in the j-th column of the motif matrix. Note that the elements of any column of the profile matrix sum to 1. The figure below shows the motif, count, and profile matrices for the NF-κB binding sites.\n",
    "\n",
    "<img src=\"http://bioinformaticsalgorithms.com/images/Motifs/motifs_score_count_profile.png\" width=\"70%\">"
   ]
  },
  {
   "cell_type": "code",
   "execution_count": 44,
   "metadata": {
    "collapsed": true
   },
   "outputs": [],
   "source": [
    "def CountMotifs(Motifs):\n",
    "    Counts = []\n",
    "    for Col in range(len(Motifs[0])):\n",
    "        Count = {'A':0,'T':0,'C':0,'G':0}\n",
    "        for Motif in Motifs:\n",
    "            Count[Motif[Col]] += 1\n",
    "        Counts.append(Count)\n",
    "    return Counts\n",
    "\n",
    "def ScoreMotifs(Motifs):\n",
    "    Scores = []\n",
    "    Counts = CountMotifs(Motifs)\n",
    "    for Count in Counts:\n",
    "        PredominantLetter = max(Count, key=lambda i: Count[i])\n",
    "        Total = sum(Count.values())\n",
    "        Scores.append(Total - Count[PredominantLetter])\n",
    "    return sum(Scores)\n",
    "\n",
    "def ProfileMotifs(Motifs):\n",
    "    Profiles = []\n",
    "    Counts = CountMotifs(Motifs)\n",
    "    for Count in Counts:\n",
    "        Profile = {}\n",
    "        Total = sum(Count.values())\n",
    "        for Letter in GENOME_LETTERS:\n",
    "            Profile[Letter] = Count[Letter] / Total\n",
    "        Profiles.append(Profile)\n",
    "    return Profiles"
   ]
  },
  {
   "cell_type": "code",
   "execution_count": 45,
   "metadata": {
    "collapsed": false
   },
   "outputs": [
    {
     "data": {
      "text/plain": [
       "[{'A': 2, 'C': 1, 'G': 0, 'T': 7},\n",
       " {'A': 2, 'C': 6, 'G': 0, 'T': 2},\n",
       " {'A': 0, 'C': 0, 'G': 10, 'T': 0},\n",
       " {'A': 0, 'C': 0, 'G': 10, 'T': 0},\n",
       " {'A': 0, 'C': 0, 'G': 9, 'T': 1},\n",
       " {'A': 0, 'C': 0, 'G': 9, 'T': 1},\n",
       " {'A': 9, 'C': 0, 'G': 1, 'T': 0},\n",
       " {'A': 1, 'C': 4, 'G': 0, 'T': 5},\n",
       " {'A': 1, 'C': 1, 'G': 0, 'T': 8},\n",
       " {'A': 1, 'C': 2, 'G': 0, 'T': 7},\n",
       " {'A': 3, 'C': 4, 'G': 0, 'T': 3},\n",
       " {'A': 0, 'C': 6, 'G': 0, 'T': 4}]"
      ]
     },
     "execution_count": 45,
     "metadata": {},
     "output_type": "execute_result"
    }
   ],
   "source": [
    "CountMotifs(Motifs)"
   ]
  },
  {
   "cell_type": "code",
   "execution_count": 46,
   "metadata": {
    "collapsed": false
   },
   "outputs": [
    {
     "data": {
      "text/plain": [
       "[{'A': 0.2, 'C': 0.1, 'G': 0.0, 'T': 0.7},\n",
       " {'A': 0.2, 'C': 0.6, 'G': 0.0, 'T': 0.2},\n",
       " {'A': 0.0, 'C': 0.0, 'G': 1.0, 'T': 0.0},\n",
       " {'A': 0.0, 'C': 0.0, 'G': 1.0, 'T': 0.0},\n",
       " {'A': 0.0, 'C': 0.0, 'G': 0.9, 'T': 0.1},\n",
       " {'A': 0.0, 'C': 0.0, 'G': 0.9, 'T': 0.1},\n",
       " {'A': 0.9, 'C': 0.0, 'G': 0.1, 'T': 0.0},\n",
       " {'A': 0.1, 'C': 0.4, 'G': 0.0, 'T': 0.5},\n",
       " {'A': 0.1, 'C': 0.1, 'G': 0.0, 'T': 0.8},\n",
       " {'A': 0.1, 'C': 0.2, 'G': 0.0, 'T': 0.7},\n",
       " {'A': 0.3, 'C': 0.4, 'G': 0.0, 'T': 0.3},\n",
       " {'A': 0.0, 'C': 0.6, 'G': 0.0, 'T': 0.4}]"
      ]
     },
     "execution_count": 46,
     "metadata": {},
     "output_type": "execute_result"
    }
   ],
   "source": [
    "ProfileMotifs(Motifs)"
   ]
  },
  {
   "cell_type": "code",
   "execution_count": 47,
   "metadata": {
    "collapsed": false
   },
   "outputs": [
    {
     "data": {
      "text/plain": [
       "30"
      ]
     },
     "execution_count": 47,
     "metadata": {},
     "output_type": "execute_result"
    }
   ],
   "source": [
    "ScoreMotifs(Motifs)"
   ]
  },
  {
   "cell_type": "markdown",
   "metadata": {},
   "source": [
    "Finally, we form a consensus string, denoted Consensus(Motifs), from the most popular letters in each column of the motif matrix. If we select Motifs correctly from the collection of upstream regions, then Consensus(Motifs) provides an ideal candidate regulatory motif for these regions. For example, the consensus string for the NF-κB binding sites in the figure below is TCGGGGATTTCC.\n",
    "\n",
    "<img src=\"http://bioinformaticsalgorithms.com/images/Motifs/motifs_score_count_profile_consensus.png\" width=\"70%\">"
   ]
  },
  {
   "cell_type": "code",
   "execution_count": 48,
   "metadata": {
    "collapsed": true
   },
   "outputs": [],
   "source": [
    "import random\n",
    "\n",
    "def ConsensusMotif(Motifs):\n",
    "    Motif = []\n",
    "    Profiles = ProfileMotifs(Motifs)\n",
    "    for Profile in Profiles:\n",
    "        PredominantLetter = max(Profile, key=lambda i: Profile[i])\n",
    "        Motif.append(PredominantLetter)\n",
    "    return Motif"
   ]
  },
  {
   "cell_type": "code",
   "execution_count": 49,
   "metadata": {
    "collapsed": false
   },
   "outputs": [
    {
     "data": {
      "text/plain": [
       "['T', 'C', 'G', 'G', 'G', 'G', 'A', 'T', 'T', 'T', 'C', 'C']"
      ]
     },
     "execution_count": 49,
     "metadata": {},
     "output_type": "execute_result"
    }
   ],
   "source": [
    "ConsensusMotif(Motifs)"
   ]
  },
  {
   "cell_type": "markdown",
   "metadata": {},
   "source": [
    "Every column of Profile(Motifs) corresponds to a probability distribution, or a collection of nonnegative numbers that sum to 1. For example, the 2nd column in the profile matrix for the NF-κB binding sites corresponds to the probabilities 0.2, 0.6, 0.0, and 0.2 for A, C, G, and T, respectively.\n",
    "\n",
    "<img src=\"http://bioinformaticsalgorithms.com/images/Motifs/profile_matrix.png\" width=\"50%\">\n",
    "\n",
    "Entropy is a measure of the uncertainty of a probability distribution (p1, …, pN), and is defined as follows:\n",
    "\n",
    "H(p1,…,pN)=−∑i=1Npi⋅log2pi\n",
    "\n",
    "For example, the entropy of the probability distribution (0.2, 0.6, 0.0, 0.2) corresponding to the 2nd column of the NF-κB profile matrix is\n",
    "\n",
    "−(0.2log20.2+0.6log20.6+0.0log20.0+0.2log20.2)≈1.371\n",
    "\n",
    "Note: Technically, log2(0) is undefined, but in the computation of entropy, we assume that 0 · log2(0) is equal to 0."
   ]
  },
  {
   "cell_type": "code",
   "execution_count": 50,
   "metadata": {
    "collapsed": true
   },
   "outputs": [],
   "source": [
    "from math import log2\n",
    "\n",
    "def MotifsEntropy(Motifs):\n",
    "    Entropies = []\n",
    "    Profiles = ProfileMotifs(Motifs)\n",
    "    for Profile in Profiles:\n",
    "        Entropy = sum(map(lambda x: -x*log2(x) if x != 0 else 0, Profile.values()))\n",
    "        Entropies.append(Entropy)\n",
    "    return Entropies"
   ]
  },
  {
   "cell_type": "code",
   "execution_count": 51,
   "metadata": {
    "collapsed": false
   },
   "outputs": [
    {
     "name": "stdout",
     "output_type": "stream",
     "text": [
      "[1.1567796494470395, 1.3709505944546687, 0.0, 0.0, 0.4689955935892812, 0.4689955935892812, 0.4689955935892812, 1.360964047443681, 0.9219280948873623, 1.1567796494470395, 1.5709505944546684, 0.9709505944546686] 9.916290005356972\n"
     ]
    }
   ],
   "source": [
    "entropy = MotifsEntropy(Motifs)\n",
    "\n",
    "print(entropy, sum(entropy))"
   ]
  },
  {
   "cell_type": "markdown",
   "metadata": {},
   "source": [
    "The first potential issue with implementing MedianString is writing a function to compute d(Pattern, Dna) = ∑ti=1 d(Pattern, Dnai), the sum of distances between Pattern and each string in Dna = {Dna1, ..., Dnat}. This task is achieved by the following pseudocode.\n",
    "\n",
    "```\n",
    "DistanceBetweenPatternAndStrings(Pattern, Dna)\n",
    "    k ← |Pattern|\n",
    "    distance ← 0\n",
    "    for each string Text in Dna\n",
    "        HammingDistance ← ∞\n",
    "        for each k-mer Pattern’ in Text\n",
    "            if HammingDistance > HammingDistance(Pattern, Pattern’)\n",
    "                HammingDistance ← HammingDistance(Pattern, Pattern’)\n",
    "        distance ← distance + HammingDistance\n",
    "    return distance\n",
    "```"
   ]
  },
  {
   "cell_type": "code",
   "execution_count": 52,
   "metadata": {
    "collapsed": false
   },
   "outputs": [],
   "source": [
    "from math import inf\n",
    "\n",
    "def DistanceBetweenPatternAndStrings(Pattern, Dna):\n",
    "    k = len(Pattern)\n",
    "    distance = 0\n",
    "    for Text in Dna:\n",
    "        hammingDistance = inf\n",
    "        for i in range((len(Text)+1) - k):\n",
    "            kmer = Text[i:i+k]\n",
    "            d = HammingDistance(Pattern, kmer)\n",
    "            if hammingDistance > d:\n",
    "                hammingDistance = d\n",
    "        distance += hammingDistance\n",
    "    return distance"
   ]
  },
  {
   "cell_type": "code",
   "execution_count": 53,
   "metadata": {
    "collapsed": false
   },
   "outputs": [
    {
     "data": {
      "text/plain": [
       "5"
      ]
     },
     "execution_count": 53,
     "metadata": {},
     "output_type": "execute_result"
    }
   ],
   "source": [
    "pattern = 'AAA'\n",
    "dna = 'TTACCTTAAC GATATCTGTC ACGGCGTTCG CCCTAAAGAG CGTCAGAGGT'.split(\" \")\n",
    "\n",
    "DistanceBetweenPatternAndStrings(pattern, dna)"
   ]
  },
  {
   "cell_type": "markdown",
   "metadata": {},
   "source": [
    "To solve the Median String Problem, we need to iterate through all possible 4k k-mers Pattern before computing d(Pattern, Dna). The pseudocode below is a modification of MedianString using the function NumberToPattern (implemented in Charging Station: Converting Patterns Into Numbers and Vice-Versa), which is applied to convert all integers from 0 to 4k - 1 into all possible k-mers.\n",
    "\n",
    "```\n",
    "MedianString(Dna, k)\n",
    "    distance ← ∞\n",
    "    for i ←0 to 4k −1\n",
    "        Pattern ← NumberToPattern(i, k)\n",
    "        if distance > DistanceBetweenPatternAndStrings(Pattern, Dna)\n",
    "            distance ← DistanceBetweenPatternAndStrings(Pattern, Dna)\n",
    "            Median ← Pattern\n",
    "    return Median\n",
    "```"
   ]
  },
  {
   "cell_type": "code",
   "execution_count": 54,
   "metadata": {
    "collapsed": true
   },
   "outputs": [],
   "source": [
    "def MedianString(Dna, k):\n",
    "    Median = None\n",
    "    distance = inf\n",
    "    for i in range(4**k):\n",
    "        Pattern = NumberToPattern(i, k)\n",
    "        d = DistanceBetweenPatternAndStrings(Pattern, Dna)\n",
    "        if distance > d:\n",
    "            distance = d\n",
    "            Median = Pattern\n",
    "    return Median"
   ]
  },
  {
   "cell_type": "code",
   "execution_count": 55,
   "metadata": {
    "collapsed": false
   },
   "outputs": [
    {
     "data": {
      "text/plain": [
       "'GAC'"
      ]
     },
     "execution_count": 55,
     "metadata": {},
     "output_type": "execute_result"
    }
   ],
   "source": [
    "dna = \"AAATTGACGCAT GACGACCACGTT CGTCAGCGCCTG GCTGAGCACCGG AGTTCGGGACAG\".split(\" \")\n",
    "k = 3\n",
    "\n",
    "MedianString(dna, 3)"
   ]
  },
  {
   "cell_type": "markdown",
   "metadata": {},
   "source": [
    "Many algorithms are iterative procedures that must choose among many alternatives at each iteration. Some of these alternatives may lead to correct solutions, whereas others may not. Greedy algorithms select the “most attractive” alternative at each iteration. For example, a greedy algorithm in chess might attempt to capture an opponent’s most valuable piece at every move. Yet anyone who has played chess knows that this strategy of looking only one move ahead will likely produce disastrous results. In general, most greedy algorithms typically fail to find an exact solution of the problem; instead, they are often fast heuristics that trade accuracy for speed in order to find an approximate solution. Nevertheless, for many biological problems that we will study in this book, greedy algorithms will prove quite useful.\n",
    "\n",
    "In this section, we will explore a greedy approach to motif finding. Again, let Motifs be a collection of k-mers taken from t strings Dna. Recall from our discussion of entropy that we can view each column of Profile(Motifs) as a four-sided biased die. Thus, a profile matrix with k columns can be viewed as a collection of k dice, which we will roll to randomly generate a k-mer. For example, if the first column of the profile matrix is (0.2, 0.1, 0.0, 0.7), then we generate A as the first nucleotide with probability 0.2, C with probability 0.1, G with probability 0.0, and T with probability 0.7.\n",
    "\n",
    "Below, we reproduce the profile matrix for the NF-κB binding sites, where the lone colored entry in the i-th column corresponds to the i-th nucleotide in ACGGGGATTACC. The probability Pr(ACGGGGATTACC | Profile) that Profile generates ACGGGGATTACC is computed by simply multiplying the highlighted entries in the profile matrix.\n",
    "\n",
    "<img src=\"http://bioinformaticsalgorithms.com/images/Motifs/probability_random_string.png\" width=\"70%\">"
   ]
  },
  {
   "cell_type": "code",
   "execution_count": 56,
   "metadata": {
    "collapsed": true
   },
   "outputs": [],
   "source": [
    "from functools import reduce\n",
    "\n",
    "def ProbabilityMotif(Pattern, Profile):\n",
    "    Probabilities = []\n",
    "    for Index, Letter in enumerate(Pattern):\n",
    "        Probability = Profile[Index][Letter]\n",
    "        Probabilities.append(Probability)\n",
    "    return reduce(lambda x, y: x*y, Probabilities, 1)"
   ]
  },
  {
   "cell_type": "code",
   "execution_count": 57,
   "metadata": {
    "collapsed": false
   },
   "outputs": [
    {
     "data": {
      "text/plain": [
       "0.0008398080000000002"
      ]
     },
     "execution_count": 57,
     "metadata": {},
     "output_type": "execute_result"
    }
   ],
   "source": [
    "pattern = 'ACGGGGATTACC'\n",
    "\n",
    "ProbabilityMotif(pattern, ProfileMotifs(Motifs))"
   ]
  },
  {
   "cell_type": "code",
   "execution_count": 58,
   "metadata": {
    "collapsed": false
   },
   "outputs": [
    {
     "data": {
      "text/plain": [
       "0.0"
      ]
     },
     "execution_count": 58,
     "metadata": {},
     "output_type": "execute_result"
    }
   ],
   "source": [
    "pattern = 'TCGTGGATTTCC'\n",
    "\n",
    "ProbabilityMotif(pattern, ProfileMotifs(Motifs))"
   ]
  },
  {
   "cell_type": "markdown",
   "metadata": {},
   "source": [
    "Given a profile matrix Profile, we can evaluate the probability of every k-mer in a string Text and find a Profile-most probable k-mer in Text, i.e., a k-mer that was most likely to have been generated by Profile among all k-mers in Text. For example, ACGGGGATTACC is the Profile-most probable 12-mer in GGTACGGGGATTACCT. Indeed, every other 12-mer in this string has probability 0. In general, if there are multiple Profile-most probable k-mers in Text, then we select the first such k-mer occurring in Text.\n",
    "\n",
    "```\n",
    "Profile-most Probable k-mer Problem: Find a Profile-most probable k-mer in a string.\n",
    "     Input: A string Text, an integer k, and a 4 × k matrix Profile.\n",
    "     Output: A Profile-most probable k-mer in Text.\n",
    "```"
   ]
  },
  {
   "cell_type": "code",
   "execution_count": 59,
   "metadata": {
    "collapsed": true
   },
   "outputs": [],
   "source": [
    "def MostProbableKmer(Text, k, Profile):\n",
    "    Kmers = []\n",
    "    MostProbable = Text[0:k]\n",
    "    for i in range((len(Text)+1) - k):\n",
    "        Kmers.append(Text[i:i+k])\n",
    "    Probability = 0\n",
    "    for kmer in Kmers:\n",
    "        p = ProbabilityMotif(kmer, Profile)\n",
    "        if p > Probability:\n",
    "            MostProbable = kmer\n",
    "            Probability = p\n",
    "    return MostProbable"
   ]
  },
  {
   "cell_type": "code",
   "execution_count": 60,
   "metadata": {
    "collapsed": false
   },
   "outputs": [
    {
     "data": {
      "text/plain": [
       "'CCGAG'"
      ]
     },
     "execution_count": 60,
     "metadata": {},
     "output_type": "execute_result"
    }
   ],
   "source": [
    "text = 'ACCTGTTTATTGCCTAAGTTCCGAACAAACCCAATATAGCCCGAGGGCCT'\n",
    "k = 5\n",
    "profile = [\n",
    "    {'A':0.2,'C':0.4,'G':0.3,'T':0.1},\n",
    "    {'A':0.2,'C':0.3,'G':0.3,'T':0.2},\n",
    "    {'A':0.3,'C':0.1,'G':0.5,'T':0.1},\n",
    "    {'A':0.2,'C':0.5,'G':0.2,'T':0.1},\n",
    "    {'A':0.3,'C':0.1,'G':0.4,'T':0.2}\n",
    "]\n",
    "\n",
    "MostProbableKmer(text, k, profile)"
   ]
  },
  {
   "cell_type": "code",
   "execution_count": 61,
   "metadata": {
    "collapsed": false
   },
   "outputs": [],
   "source": [
    "#with open('./dataset_159_3.txt') as file:\n",
    "#    text = file.readline().strip()\n",
    "#    k = int(file.readline().strip())\n",
    "#    lines = file.readlines()\n",
    "#    profile = [{} for x in lines[0].split(\" \")]\n",
    "#    for row, line in enumerate(lines):\n",
    "#        for col, p in enumerate(line.strip().split(\" \")):\n",
    "#            profile[col][GENOME_LETTERS[row]] = float(p)\n",
    "#    print(MostProbableKmer(text, k, profile))"
   ]
  },
  {
   "cell_type": "markdown",
   "metadata": {},
   "source": [
    "Our proposed greedy motif search algorithm, GreedyMotifSearch, starts by forming a motif matrix from arbitrarily selected k-mers in each string from Dna (which in our specific implementation is the first k﻿-mer in each string). It then attempts to improve this initial motif matrix by trying each of the k-mers in Dna1 as the first motif. For a given choice of k-mer Motif1 in Dna1, it builds a profile matrix Profile for this lone k-mer, and sets Motif2 equal to the Profile-most probable k-mer in Dna2. It then iterates by updating Profile as the profile matrix formed from Motif1 and Motif2, and sets Motif3 equal to the Profile-most probable k-mer in Dna3. In general, after finding i − 1 k-mers Motifs in the first i − 1 strings of Dna, GreedyMotifSearch constructs Profile(Motifs) and selects the Profile-most probable k-mer from Dnai based on this profile matrix. After obtaining a k-mer from each string to obtain a collection Motifs, GreedyMotifSearch tests to see whether Motifs outscores the current best scoring collection of motifs and then moves Motif1 one symbol over in Dna1, beginning the entire process of generating Motifs again.\n",
    "\n",
    "```\n",
    "GreedyMotifSearch(Dna, k, t)\n",
    "    BestMotifs ← motif matrix formed by first k-mers in each string from Dna\n",
    "    for each k-mer Motif in the first string from Dna\n",
    "        Motif1 ← Motif\n",
    "        for i = 2 to t\n",
    "            form Profile from motifs Motif1, …, Motifi - 1\n",
    "            Motifi ← Profile-most probable k-mer in the i-th string in Dna\n",
    "        Motifs ← (Motif1, …, Motift)\n",
    "        if Score(Motifs) < Score(BestMotifs)\n",
    "            BestMotifs ← Motifs\n",
    "    return BestMotifs\n",
    "```"
   ]
  },
  {
   "cell_type": "code",
   "execution_count": 62,
   "metadata": {
    "collapsed": true
   },
   "outputs": [],
   "source": [
    "def GreedyMotifSearch(Dna, k):\n",
    "    BestMotifs = [Text[0:k] for Text in Dna]\n",
    "    l = len(Dna[0]) + 1\n",
    "    for i in range(l - k):\n",
    "        Motifs = [Dna[0][i:i+k]]\n",
    "        for ii in range(1, len(Dna)):\n",
    "            Profile = ProfileMotifs(Motifs)\n",
    "            Motifs.append(MostProbableKmer(Dna[ii], k, Profile))\n",
    "        if ScoreMotifs(Motifs) < ScoreMotifs(BestMotifs):\n",
    "            BestMotifs = Motifs\n",
    "    return BestMotifs"
   ]
  },
  {
   "cell_type": "code",
   "execution_count": 63,
   "metadata": {
    "collapsed": false
   },
   "outputs": [
    {
     "data": {
      "text/plain": [
       "['CAG', 'CAG', 'CAA', 'CAA', 'CAA']"
      ]
     },
     "execution_count": 63,
     "metadata": {},
     "output_type": "execute_result"
    }
   ],
   "source": [
    "k, t = 3, 5\n",
    "dna = \"GGCGTTCAGGCA AAGAATCAGTCA CAAGGAGTTCGC CACGTCAATCAC CAATAATATTCG\".split(\" \")\n",
    "\n",
    "GreedyMotifSearch(dna, k)"
   ]
  },
  {
   "cell_type": "code",
   "execution_count": 64,
   "metadata": {
    "collapsed": false
   },
   "outputs": [],
   "source": [
    "#with open('./dataset_159_5.txt') as file:\n",
    "#    meta = file.readline().strip().split(\" \")\n",
    "#    dna = list(map(str.strip, file.readlines()))\n",
    "#    motifs = GreedyMotifSearch(dna, int(meta[0]))\n",
    "#    for motif in motifs:\n",
    "#        print(motif)"
   ]
  },
  {
   "cell_type": "markdown",
   "metadata": {},
   "source": [
    "Cromwell’s rule is relevant to the calculation of the probability of a string based on a profile matrix. For example, consider the following Profile.\n",
    "\n",
    "<img src=\"http://bioinformaticsalgorithms.com/images/Motifs/greedy_profile_1.png\" width=\"70%\">\n",
    "\n",
    "The fourth symbol of TCGTGGATTTCC causes Pr(TCGTGGATTTCC, Profile) to be equal to zero. As a result, the entire string is assigned a zero probability, even though TCGTGGATTTCC differs from the consensus string at only one position. For that matter, TCGTGGATTTCC has the same low probability as AAATCTTGGAA, which is very different from the consensus string.\n",
    "\n",
    "In order to improve this unfair scoring, bioinformaticians often substitute zeroes with small numbers called pseudocounts. The simplest approach to introducing pseudocounts, called Laplace’s Rule of Succession, is similar to the principle that Laplace used to calculate the probability that the sun will not rise tomorrow. In the case of motifs, pseudocounts often amount to adding 1 (or some other small number) to each element of Count(Motifs). For example, say we have the following motif, count, and profile matrices:\n",
    "\n",
    "<img src=\"http://bioinformaticsalgorithms.com/images/Motifs/greedy_profile_2.png\" width=\"70%\">\n",
    "\n",
    "Laplace’s Rule of Succession adds 1 to each element of Count(﻿Motifs), updating the two matrices to the following:\n",
    "\n",
    "<img src=\"http://bioinformaticsalgorithms.com/images/Motifs/greedy_profile_3.png\" width=\"70%\">\n"
   ]
  },
  {
   "cell_type": "code",
   "execution_count": 127,
   "metadata": {
    "collapsed": true
   },
   "outputs": [],
   "source": [
    "import random\n",
    "\n",
    "def LaplaceCountMotifs(Motifs):\n",
    "    Counts = []\n",
    "    for Col in range(len(Motifs[0]) ):\n",
    "        Count = {'A':1,'T':1,'C':1,'G':1}\n",
    "        for Motif in Motifs:\n",
    "            Count[Motif[Col]] += 1\n",
    "        Counts.append(Count)\n",
    "    return Counts\n",
    "\n",
    "def LaplaceProfileMotifs(Motifs):\n",
    "    Profiles = []\n",
    "    Counts = LaplaceCountMotifs(Motifs)\n",
    "    for Count in Counts:\n",
    "        Profile = {}\n",
    "        Total = sum(Count.values())\n",
    "        for Letter in GENOME_LETTERS:\n",
    "            Profile[Letter] = int((Count[Letter] / Total) * 100) + random.randint(0,1)\n",
    "        Profiles.append(Profile)\n",
    "    return Profiles"
   ]
  },
  {
   "cell_type": "markdown",
   "metadata": {},
   "source": [
    "After incorporating Laplace's Rule of Succession, GreedyMotifSearch is given by the following:\n",
    "\n",
    "```\n",
    "GreedyMotifSearch(Dna, k, t)\n",
    "    form a set of k-mers BestMotifs by selecting 1st k-mers in each string from Dna\n",
    "    for each k-mer Motif in the first string from Dna\n",
    "        Motif1 ← Motif\n",
    "        for i = 2 to t\n",
    "            apply Laplace's Rule of Succession to form Profile from motifs Motif1, …, Motifi-1\n",
    "            Motifi ← Profile-most probable k-mer in the i-th string in Dna\n",
    "        Motifs ← (Motif1, …, Motift)\n",
    "        if Score(Motifs) < Score(BestMotifs)\n",
    "            BestMotifs ← Motifs\n",
    "    output BestMotifs\n",
    "```"
   ]
  },
  {
   "cell_type": "code",
   "execution_count": 66,
   "metadata": {
    "collapsed": true
   },
   "outputs": [],
   "source": [
    "def LaplaceGreedyMotifSearch(Dna, k):\n",
    "    BestMotifs = [Text[0:k] for Text in Dna]\n",
    "    l = len(Dna[0]) + 1\n",
    "    for i in range(l - k):\n",
    "        Motifs = [Dna[0][i:i+k]]\n",
    "        for ii in range(1, len(Dna)):\n",
    "            Profile = LaplaceProfileMotifs(Motifs)\n",
    "            Motifs.append(MostProbableKmer(Dna[ii], k, Profile))\n",
    "        if ScoreMotifs(Motifs) < ScoreMotifs(BestMotifs):\n",
    "            BestMotifs = Motifs\n",
    "    return BestMotifs"
   ]
  },
  {
   "cell_type": "code",
   "execution_count": 67,
   "metadata": {
    "collapsed": false
   },
   "outputs": [
    {
     "data": {
      "text/plain": [
       "(['CAG', 'CAG', 'CAA', 'CAA', 'CAA'], ['TTC', 'ATC', 'TTC', 'ATC', 'TTC'])"
      ]
     },
     "execution_count": 67,
     "metadata": {},
     "output_type": "execute_result"
    }
   ],
   "source": [
    "k = 3\n",
    "dna = \"GGCGTTCAGGCA AAGAATCAGTCA CAAGGAGTTCGC CACGTCAATCAC CAATAATATTCG\".split(\" \")\n",
    "\n",
    "GreedyMotifSearch(dna, k), LaplaceGreedyMotifSearch(dna, k)"
   ]
  },
  {
   "cell_type": "markdown",
   "metadata": {
    "collapsed": true
   },
   "source": [
    "We previously defined Profile(Motifs) as the profile matrix constructed from a collection of k-mers Motifs in Dna. Now, given a collection of strings Dna and an arbitrary 4 x k matrix Profile, we define Motifs(Profile, Dna) as the collection of k-mers formed by the Profile-most probable k-mers in each string from Dna. For example, consider the following Profile and Dna: \n",
    "\n",
    "<img src=\"http://bioinformaticsalgorithms.com/images/Motifs/randomized_profile_1.png\" width=\"30%\">\n",
    "\n",
    "Taking the Profile-most probable 4-mer from each row of Dna produces the following 4-mers (shown in red):\n",
    "\n",
    "<img src=\"http://bioinformaticsalgorithms.com/images/Motifs/randomized_profile_2.png\" width=\"30%\">\n",
    "\n",
    "In general, we can begin from a collection of randomly chosen k-mers Motifs in Dna, construct Profile(Motifs), and use this profile to generate a new collection of k-mers:\n",
    "\n",
    "  Motifs(Profile(Motifs), Dna).\n",
    "\n",
    "Why would we do this? Because our hope is that Motifs(Profile(Motifs), Dna) has a better score than the original collection of k-mers Motifs. We can then form the profile matrix of these k-mers,\n",
    "\n",
    "Profile(Motifs(Profile(Motifs), Dna))\n",
    "\n",
    "and use it to form the most probable k-mers,\n",
    "\n",
    "Motifs(Profile(Motifs(Profile(Motifs), Dna)), Dna).\n",
    "\n",
    "We can continue to iterate. . .\n",
    "\n",
    "...Profile(Motifs(Profile(Motifs(Profile(Motifs), Dna)), Dna))...\n",
    "\n",
    "for as long as the score of the constructed motifs keeps improving, which is exactly what RandomizedMotifSearch does. To implement this algorithm, you will need to randomly select the initial collection of k-mers that form the motif matrix Motifs. To do so, you will need a random number generator (denoted Random(N)) that is equally likely to return any integer from 1 to N. You might like to think about this random number generator as an unbiased N-sided die.\n",
    "\n",
    "```\n",
    "RandomizedMotifSearch(Dna, k, t)\n",
    "    randomly select k-mers Motifs = (Motif1, …, Motift) in each string from Dna\n",
    "    BestMotifs ← Motifs\n",
    "    while forever\n",
    "        Profile ← Profile(Motifs)\n",
    "        Motifs ← Motifs(Profile, Dna)\n",
    "        if Score(Motifs) < Score(BestMotifs)\n",
    "            BestMotifs ← Motifs\n",
    "        else\n",
    "            return BestMotifs\n",
    "```\n"
   ]
  },
  {
   "cell_type": "code",
   "execution_count": 115,
   "metadata": {
    "collapsed": true
   },
   "outputs": [],
   "source": [
    "def ScoreMotifs(Motifs):\n",
    "    Score = 0\n",
    "    Consensus = ConsensusMotif(Motifs)\n",
    "    for Motif in Motifs:\n",
    "        Score += HammingDistance(Motif, Consensus)\n",
    "    return Score\n",
    "\n",
    "def MotifsFromProfile(Profile, Dna):\n",
    "    Motifs = []\n",
    "    k = len(Profile)\n",
    "    for dna in Dna:\n",
    "        Kmer = MostProbableKmer(dna, k, Profile)\n",
    "        Motifs.append(Kmer)\n",
    "    return Motifs"
   ]
  },
  {
   "cell_type": "code",
   "execution_count": 131,
   "metadata": {
    "collapsed": true
   },
   "outputs": [],
   "source": [
    "import random\n",
    "\n",
    "random.seed(0)\n",
    "\n",
    "def RandomizedMotifSearch(Dna, k):\n",
    "    Motifs = []\n",
    "    for dna in Dna:\n",
    "        t = random.randint(0, len(dna)-k)\n",
    "        Motifs.append(dna[t:t+k])\n",
    "    BestMotifs = Motifs\n",
    "    while True:\n",
    "        Profile = LaplaceProfileMotifs(Motifs)\n",
    "        Motifs = MotifsFromProfile(Profile, Dna)\n",
    "        if ScoreMotifs(Motifs) < ScoreMotifs(BestMotifs):\n",
    "            BestMotifs = Motifs\n",
    "        else:\n",
    "            return BestMotifs"
   ]
  },
  {
   "cell_type": "code",
   "execution_count": 130,
   "metadata": {
    "collapsed": false
   },
   "outputs": [
    {
     "data": {
      "text/plain": [
       "['TCTCGGGG', 'CCAAGGTG', 'TACAGGCG', 'TTCAGGTG', 'TCCACGTG']"
      ]
     },
     "execution_count": 130,
     "metadata": {},
     "output_type": "execute_result"
    }
   ],
   "source": [
    "dna = [\n",
    "    \"CGCCCCTCTCGGGGGTGTTCAGTAAACGGCCA\",\n",
    "    \"GGGCGAGGTATGTGTAAGTGCCAAGGTGCCAG\",\n",
    "    \"TAGTACCGAGACCGAAAGAAGTATACAGGCGT\",\n",
    "    \"TAGATCAAGTTTCAGGTGCACGTCGGTGAACC\",\n",
    "    \"AATCCACCAGCTCCACGTGCAATGTTGGCCTA\"]\n",
    "\n",
    "BestMotifs = RandomizedMotifSearch(dna, 8)\n",
    "\n",
    "for i in range(1000):\n",
    "    Motifs = RandomizedMotifSearch(dna, 8)\n",
    "    if ScoreMotifs(Motifs) < ScoreMotifs(BestMotifs):\n",
    "        BestMotifs = Motifs\n",
    "\n",
    "BestMotifs"
   ]
  },
  {
   "cell_type": "markdown",
   "metadata": {
    "collapsed": true
   },
   "source": [
    "Note that RandomizedMotifSearch may change all t strings Motifs in a single iteration. This strategy may prove reckless, since some correct motifs (captured in Motifs) may potentially be discarded at the next iteration. GibbsSampler is a more cautious iterative algorithm that discards a single k-mer from the current set of motifs at each iteration and decides to either keep it or replace it with a new one. This algorithm thus moves with more caution in the space of all motifs, as illustrated below.\n",
    "\n",
    "<img src=\"http://bioinformaticsalgorithms.com/images/Motifs/randomized_vs_gibbs.png\" width=\"70%\">\n",
    "\n",
    "Like RandomizedMotifSearch, GibbsSampler starts with randomly chosen k-mers in each of t DNA sequences, but it makes a random rather than a deterministic choice at each iteration. It uses randomly selected k-mers (Motif1, …, Motift) to come up with another (hopefully better scoring) set of k-mers. In contrast with RandomizedMotifSearch (which deterministically defines new motifs as\n",
    "\n",
    "Motifs(Profile(Motifs), Dna),\n",
    "\n",
    "GibbsSampler randomly selects an integer i between 1 and t and then randomly changes only a single k-mer Motifi.\n",
    "\n",
    "To describe how GibbsSampler updates Motifs, we will need a slightly more advanced random number generator. Given a probability distribution (p1, …, pn), this random number generator, denoted Random(p1, …, pn), models an n-sided biased die and returns integer i with probability pi. For example, the standard six-sided fair die represents the random number generator Random(1/6, 1/6, 1/6, 1/6, 1/6, 1/6), whereas a biased die might represent the random number generator Random(0.1, 0.2, 0.3, 0.05, 0.1, 0.25). GibbsSampler further generalizes the random number generator by using the function Random(p1, …, pn) defined for any set of non-negative numbers, i.e., not necessarily satisfying the condition that the pi sum to 1. If the pi sum to some C > 0 instead, then Random(p1, …, pn) is defined as Random(p1/C, …, pn/C), where (p1/C, …, pn/C) is a probability distribution. For example, for (0.1, 0.2, 0.3) with 0.1 + 0.2 + 0.3 = 0.6,\n",
    "\n",
    "Random(0.1, 0.2, 0.3) = Random(0.1/0.6, 0.2/0.6, 0.3/0.6) = Random(1/6, 1/3, 1/2).\n",
    "\n",
    "We have previously defined the notion of a Profile-most probable k-mer in a string. We now define a Profile-randomly generated k-mer in a string Text. For each k-mer Pattern in Text, compute the probability Pr(Pattern | Profile), resulting in n = |Text| - k + 1 probabilities (p1, …, pn). These probabilities do not necessarily sum to 1, but we can still form the random number generator Random(p1, …, pn) based on them. GibbsSampler uses this random number generator to select a Profile-randomly generated k-mer at each step: if the die rolls the number i, then we define the Profile-randomly generated k-mer as the i-th k-mer in Text. While the pseudocode below repeats this procedure N times, in practice GibbsSampler depends on various stopping rules that are beyond the scope of this chapter.\n",
    "\n",
    "```\n",
    "GibbsSampler(Dna, k, t, N)\n",
    "    randomly select k-mers Motifs = (Motif1, …, Motift) in each string from Dna\n",
    "    BestMotifs ← Motifs\n",
    "    for j ← 1 to N\n",
    "        i ← Random(t)\n",
    "        Profile ← profile matrix constructed from all strings in Motifs except for Motifi\n",
    "        Motifi ← Profile-randomly generated k-mer in the i-th sequence\n",
    "        if Score(Motifs) < Score(BestMotifs)\n",
    "            BestMotifs ← Motifs\n",
    "    return BestMotifs\n",
    "```"
   ]
  },
  {
   "cell_type": "code",
   "execution_count": 142,
   "metadata": {
    "collapsed": true
   },
   "outputs": [],
   "source": [
    "import numpy as np\n",
    "\n",
    "def GibbsSampler(Dna, k, N):\n",
    "    Motifs = []\n",
    "    for dna in Dna:\n",
    "        t = np.random.randint(0, len(dna)-k)\n",
    "        Motifs.append(dna[t:t+k])\n",
    "    t = len(Dna) - 1\n",
    "    BestMotifs = Motifs\n",
    "    for _ in range(N):\n",
    "        i = np.random.randint(0, t)\n",
    "        Profile = LaplaceProfileMotifs(Motifs)\n",
    "        Motifs[i] = MotifsFromProfile(Profile, Dna)[i]\n",
    "        if ScoreMotifs(Motifs) < ScoreMotifs(BestMotifs):\n",
    "            BestMotifs = Motifs\n",
    "    return BestMotifs"
   ]
  },
  {
   "cell_type": "code",
   "execution_count": 143,
   "metadata": {
    "collapsed": false
   },
   "outputs": [
    {
     "data": {
      "text/plain": [
       "['GGGGTGTT', 'GAGGTATG', 'GAAGTATA', 'CAGGTGCA', 'CACGTGCA']"
      ]
     },
     "execution_count": 143,
     "metadata": {},
     "output_type": "execute_result"
    }
   ],
   "source": [
    "dna = [\n",
    "    \"CGCCCCTCTCGGGGGTGTTCAGTAAACGGCCA\",\n",
    "    \"GGGCGAGGTATGTGTAAGTGCCAAGGTGCCAG\",\n",
    "    \"TAGTACCGAGACCGAAAGAAGTATACAGGCGT\",\n",
    "    \"TAGATCAAGTTTCAGGTGCACGTCGGTGAACC\",\n",
    "    \"AATCCACCAGCTCCACGTGCAATGTTGGCCTA\"]\n",
    "\n",
    "BestMotifs = GibbsSampler(dna, 8, 100)\n",
    "\n",
    "for i in range(100):\n",
    "    Motifs = GibbsSampler(dna, 8, 100)\n",
    "    if ScoreMotifs(Motifs) < ScoreMotifs(BestMotifs):\n",
    "        BestMotifs = Motifs\n",
    "\n",
    "BestMotifs"
   ]
  },
  {
   "cell_type": "code",
   "execution_count": 144,
   "metadata": {
    "collapsed": false
   },
   "outputs": [
    {
     "data": {
      "text/plain": [
       "['TGA', 'TAA', 'GGA', 'TGT']"
      ]
     },
     "execution_count": 144,
     "metadata": {},
     "output_type": "execute_result"
    }
   ],
   "source": [
    "dna = [\n",
    "    \"TGACGTTC\",\n",
    "    \"TAAGAGTT\",\n",
    "    \"GGACGAAA\",\n",
    "    \"CTGTTCGC\"]\n",
    "\n",
    "first_motif = [\n",
    "    \"TGA\",\n",
    "    \"GTT\",\n",
    "    \"GAA\",\n",
    "    \"TGT\"]\n",
    "\n",
    "MotifsFromProfile(ProfileMotifs(first_motif),dna)\n"
   ]
  },
  {
   "cell_type": "code",
   "execution_count": 155,
   "metadata": {
    "collapsed": false
   },
   "outputs": [],
   "source": [
    "a = \"\"\"0   4   3   4   0   0  18   0   1   6  10   7   0   3   0   0   2   1   9   3\n",
    "5   3   4   0   0   0   0  19   9   0   3   8   0   4  19  17  16   6   1   2\n",
    "5   3  11  15  16  19   0   0   2   2   0   0  18   7   0   0   1   0   6  10\n",
    "9   9   1   0   3   0   1   0   7  11   6   4   1   5   0   2   0  12   3   4\"\"\".split(\"\\n\")"
   ]
  },
  {
   "cell_type": "code",
   "execution_count": 156,
   "metadata": {
    "collapsed": false
   },
   "outputs": [],
   "source": [
    "a = list(map(lambda x: x.split(\"   \"), a))"
   ]
  },
  {
   "cell_type": "code",
   "execution_count": 158,
   "metadata": {
    "collapsed": false
   },
   "outputs": [
    {
     "name": "stdout",
     "output_type": "stream",
     "text": [
      "[['0', '4', '3', '4', '0', '0  18', '0', '1', '6  10', '7', '0', '3', '0', '0', '2', '1', '9', '3'], ['5', '3', '4', '0', '0', '0', '0  19', '9', '0', '3', '8', '0', '4  19  17  16', '6', '1', '2'], ['5', '3  11  15  16  19', '0', '0', '2', '2', '0', '0  18', '7', '0', '0', '1', '0', '6  10'], ['9', '9', '1', '0', '3', '0', '1', '0', '7  11', '6', '4', '1', '5', '0', '2', '0  12', '3', '4']]\n"
     ]
    }
   ],
   "source": [
    "print(a)"
   ]
  },
  {
   "cell_type": "code",
   "execution_count": null,
   "metadata": {
    "collapsed": true
   },
   "outputs": [],
   "source": []
  }
 ],
 "metadata": {
  "kernelspec": {
   "display_name": "Python 3",
   "language": "python",
   "name": "python3"
  },
  "language_info": {
   "codemirror_mode": {
    "name": "ipython",
    "version": 3
   },
   "file_extension": ".py",
   "mimetype": "text/x-python",
   "name": "python",
   "nbconvert_exporter": "python",
   "pygments_lexer": "ipython3",
   "version": "3.6.0"
  }
 },
 "nbformat": 4,
 "nbformat_minor": 2
}
